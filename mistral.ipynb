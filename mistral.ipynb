{
 "cells": [
  {
   "cell_type": "markdown",
   "id": "2e411c9c-ca99-4b6d-9c07-04c2b61ec98b",
   "metadata": {},
   "source": [
    "# Genshin Impact Research"
   ]
  },
  {
   "cell_type": "markdown",
   "id": "e23c3abc-b132-4fb2-b734-2c92335ad684",
   "metadata": {},
   "source": [
    "I obtained a research paper PDF from https://www.researchgate.net/publication/373922639_Research_on_the_Reasons_for_the_Success_of_Genshin_Impact.\n",
    "\n",
    "Available at assets/genshin_impact.pdf"
   ]
  },
  {
   "cell_type": "code",
   "execution_count": 1,
   "id": "cbee8868-dea7-4ebe-95a2-911017206737",
   "metadata": {},
   "outputs": [
    {
     "name": "stdout",
     "output_type": "stream",
     "text": [
      "Requirement already satisfied: weaviate-client in ./venv/lib/python3.10/site-packages (4.7.1)\n",
      "Requirement already satisfied: langchain in ./venv/lib/python3.10/site-packages (0.2.14)\n",
      "Requirement already satisfied: langchain-text-splitters in ./venv/lib/python3.10/site-packages (0.2.2)\n",
      "Requirement already satisfied: langchain_weaviate in ./venv/lib/python3.10/site-packages (0.0.2)\n",
      "Requirement already satisfied: langchain-huggingface in ./venv/lib/python3.10/site-packages (0.0.3)\n",
      "Requirement already satisfied: langchain-community in ./venv/lib/python3.10/site-packages (0.2.12)\n",
      "Requirement already satisfied: tiktoken in ./venv/lib/python3.10/site-packages (0.7.0)\n",
      "Requirement already satisfied: pypdf in ./venv/lib/python3.10/site-packages (4.3.1)\n",
      "Requirement already satisfied: rapidocr-onnxruntime in ./venv/lib/python3.10/site-packages (1.3.24)\n",
      "Requirement already satisfied: sentence-transformers in ./venv/lib/python3.10/site-packages (3.0.1)\n",
      "Requirement already satisfied: python-dotenv in ./venv/lib/python3.10/site-packages (1.0.1)\n",
      "Requirement already satisfied: ipywidgets in ./venv/lib/python3.10/site-packages (8.1.5)\n",
      "Requirement already satisfied: authlib<2.0.0,>=1.2.1 in ./venv/lib/python3.10/site-packages (from weaviate-client) (1.3.1)\n",
      "Requirement already satisfied: validators==0.33.0 in ./venv/lib/python3.10/site-packages (from weaviate-client) (0.33.0)\n",
      "Requirement already satisfied: grpcio<2.0.0,>=1.57.0 in ./venv/lib/python3.10/site-packages (from weaviate-client) (1.66.0)\n",
      "Requirement already satisfied: requests<3.0.0,>=2.30.0 in ./venv/lib/python3.10/site-packages (from weaviate-client) (2.32.3)\n",
      "Requirement already satisfied: grpcio-tools<2.0.0,>=1.57.0 in ./venv/lib/python3.10/site-packages (from weaviate-client) (1.66.0)\n",
      "Requirement already satisfied: pydantic<3.0.0,>=2.5.0 in ./venv/lib/python3.10/site-packages (from weaviate-client) (2.8.2)\n",
      "Requirement already satisfied: httpx<=0.27.0,>=0.25.0 in ./venv/lib/python3.10/site-packages (from weaviate-client) (0.27.0)\n",
      "Requirement already satisfied: grpcio-health-checking<2.0.0,>=1.57.0 in ./venv/lib/python3.10/site-packages (from weaviate-client) (1.66.0)\n",
      "Requirement already satisfied: SQLAlchemy<3,>=1.4 in ./venv/lib/python3.10/site-packages (from langchain) (2.0.32)\n",
      "Requirement already satisfied: aiohttp<4.0.0,>=3.8.3 in ./venv/lib/python3.10/site-packages (from langchain) (3.10.5)\n",
      "Requirement already satisfied: numpy<2,>=1 in ./venv/lib/python3.10/site-packages (from langchain) (1.26.4)\n",
      "Requirement already satisfied: tenacity!=8.4.0,<9.0.0,>=8.1.0 in ./venv/lib/python3.10/site-packages (from langchain) (8.5.0)\n",
      "Requirement already satisfied: langchain-core<0.3.0,>=0.2.32 in ./venv/lib/python3.10/site-packages (from langchain) (0.2.34)\n",
      "Requirement already satisfied: PyYAML>=5.3 in ./venv/lib/python3.10/site-packages (from langchain) (6.0.2)\n",
      "Requirement already satisfied: async-timeout<5.0.0,>=4.0.0 in ./venv/lib/python3.10/site-packages (from langchain) (4.0.3)\n",
      "Requirement already satisfied: langsmith<0.2.0,>=0.1.17 in ./venv/lib/python3.10/site-packages (from langchain) (0.1.104)\n",
      "Requirement already satisfied: simsimd<5.0.0,>=3.6.1 in ./venv/lib/python3.10/site-packages (from langchain_weaviate) (4.4.0)\n",
      "Requirement already satisfied: huggingface-hub>=0.23.0 in ./venv/lib/python3.10/site-packages (from langchain-huggingface) (0.24.6)\n",
      "Requirement already satisfied: transformers>=4.39.0 in ./venv/lib/python3.10/site-packages (from langchain-huggingface) (4.44.2)\n",
      "Requirement already satisfied: tokenizers>=0.19.1 in ./venv/lib/python3.10/site-packages (from langchain-huggingface) (0.19.1)\n",
      "Requirement already satisfied: dataclasses-json<0.7,>=0.5.7 in ./venv/lib/python3.10/site-packages (from langchain-community) (0.6.7)\n",
      "Requirement already satisfied: regex>=2022.1.18 in ./venv/lib/python3.10/site-packages (from tiktoken) (2024.7.24)\n",
      "Requirement already satisfied: typing_extensions>=4.0 in ./venv/lib/python3.10/site-packages (from pypdf) (4.12.2)\n",
      "Requirement already satisfied: pyclipper>=1.2.0 in ./venv/lib/python3.10/site-packages (from rapidocr-onnxruntime) (1.3.0.post5)\n",
      "Requirement already satisfied: Pillow in ./venv/lib/python3.10/site-packages (from rapidocr-onnxruntime) (10.4.0)\n",
      "Requirement already satisfied: six>=1.15.0 in ./venv/lib/python3.10/site-packages (from rapidocr-onnxruntime) (1.16.0)\n",
      "Requirement already satisfied: opencv-python>=4.5.1.48 in ./venv/lib/python3.10/site-packages (from rapidocr-onnxruntime) (4.10.0.84)\n",
      "Requirement already satisfied: onnxruntime>=1.7.0 in ./venv/lib/python3.10/site-packages (from rapidocr-onnxruntime) (1.19.0)\n",
      "Requirement already satisfied: Shapely!=2.0.4,>=1.7.1 in ./venv/lib/python3.10/site-packages (from rapidocr-onnxruntime) (2.0.6)\n",
      "Requirement already satisfied: scikit-learn in ./venv/lib/python3.10/site-packages (from sentence-transformers) (1.5.1)\n",
      "Requirement already satisfied: tqdm in ./venv/lib/python3.10/site-packages (from sentence-transformers) (4.66.5)\n",
      "Requirement already satisfied: torch>=1.11.0 in ./venv/lib/python3.10/site-packages (from sentence-transformers) (2.4.0)\n",
      "Requirement already satisfied: scipy in ./venv/lib/python3.10/site-packages (from sentence-transformers) (1.14.1)\n",
      "Requirement already satisfied: jupyterlab-widgets~=3.0.12 in ./venv/lib/python3.10/site-packages (from ipywidgets) (3.0.13)\n",
      "Requirement already satisfied: traitlets>=4.3.1 in ./venv/lib/python3.10/site-packages (from ipywidgets) (5.14.3)\n",
      "Requirement already satisfied: widgetsnbextension~=4.0.12 in ./venv/lib/python3.10/site-packages (from ipywidgets) (4.0.13)\n",
      "Requirement already satisfied: ipython>=6.1.0 in ./venv/lib/python3.10/site-packages (from ipywidgets) (8.26.0)\n",
      "Requirement already satisfied: comm>=0.1.3 in ./venv/lib/python3.10/site-packages (from ipywidgets) (0.2.2)\n",
      "Requirement already satisfied: frozenlist>=1.1.1 in ./venv/lib/python3.10/site-packages (from aiohttp<4.0.0,>=3.8.3->langchain) (1.4.1)\n",
      "Requirement already satisfied: attrs>=17.3.0 in ./venv/lib/python3.10/site-packages (from aiohttp<4.0.0,>=3.8.3->langchain) (24.2.0)\n",
      "Requirement already satisfied: aiosignal>=1.1.2 in ./venv/lib/python3.10/site-packages (from aiohttp<4.0.0,>=3.8.3->langchain) (1.3.1)\n",
      "Requirement already satisfied: multidict<7.0,>=4.5 in ./venv/lib/python3.10/site-packages (from aiohttp<4.0.0,>=3.8.3->langchain) (6.0.5)\n",
      "Requirement already satisfied: aiohappyeyeballs>=2.3.0 in ./venv/lib/python3.10/site-packages (from aiohttp<4.0.0,>=3.8.3->langchain) (2.4.0)\n",
      "Requirement already satisfied: yarl<2.0,>=1.0 in ./venv/lib/python3.10/site-packages (from aiohttp<4.0.0,>=3.8.3->langchain) (1.9.4)\n",
      "Requirement already satisfied: cryptography in ./venv/lib/python3.10/site-packages (from authlib<2.0.0,>=1.2.1->weaviate-client) (43.0.0)\n",
      "Requirement already satisfied: marshmallow<4.0.0,>=3.18.0 in ./venv/lib/python3.10/site-packages (from dataclasses-json<0.7,>=0.5.7->langchain-community) (3.22.0)\n",
      "Requirement already satisfied: typing-inspect<1,>=0.4.0 in ./venv/lib/python3.10/site-packages (from dataclasses-json<0.7,>=0.5.7->langchain-community) (0.9.0)\n",
      "Requirement already satisfied: protobuf<6.0dev,>=5.26.1 in ./venv/lib/python3.10/site-packages (from grpcio-health-checking<2.0.0,>=1.57.0->weaviate-client) (5.27.3)\n",
      "Requirement already satisfied: setuptools in ./venv/lib/python3.10/site-packages (from grpcio-tools<2.0.0,>=1.57.0->weaviate-client) (59.6.0)\n",
      "Requirement already satisfied: certifi in ./venv/lib/python3.10/site-packages (from httpx<=0.27.0,>=0.25.0->weaviate-client) (2024.7.4)\n",
      "Requirement already satisfied: httpcore==1.* in ./venv/lib/python3.10/site-packages (from httpx<=0.27.0,>=0.25.0->weaviate-client) (1.0.5)\n",
      "Requirement already satisfied: anyio in ./venv/lib/python3.10/site-packages (from httpx<=0.27.0,>=0.25.0->weaviate-client) (4.4.0)\n",
      "Requirement already satisfied: idna in ./venv/lib/python3.10/site-packages (from httpx<=0.27.0,>=0.25.0->weaviate-client) (3.8)\n",
      "Requirement already satisfied: sniffio in ./venv/lib/python3.10/site-packages (from httpx<=0.27.0,>=0.25.0->weaviate-client) (1.3.1)\n",
      "Requirement already satisfied: h11<0.15,>=0.13 in ./venv/lib/python3.10/site-packages (from httpcore==1.*->httpx<=0.27.0,>=0.25.0->weaviate-client) (0.14.0)\n",
      "Requirement already satisfied: fsspec>=2023.5.0 in ./venv/lib/python3.10/site-packages (from huggingface-hub>=0.23.0->langchain-huggingface) (2024.6.1)\n",
      "Requirement already satisfied: packaging>=20.9 in ./venv/lib/python3.10/site-packages (from huggingface-hub>=0.23.0->langchain-huggingface) (24.1)\n",
      "Requirement already satisfied: filelock in ./venv/lib/python3.10/site-packages (from huggingface-hub>=0.23.0->langchain-huggingface) (3.15.4)\n",
      "Requirement already satisfied: exceptiongroup in ./venv/lib/python3.10/site-packages (from ipython>=6.1.0->ipywidgets) (1.2.2)\n",
      "Requirement already satisfied: prompt-toolkit<3.1.0,>=3.0.41 in ./venv/lib/python3.10/site-packages (from ipython>=6.1.0->ipywidgets) (3.0.47)\n",
      "Requirement already satisfied: decorator in ./venv/lib/python3.10/site-packages (from ipython>=6.1.0->ipywidgets) (5.1.1)\n",
      "Requirement already satisfied: matplotlib-inline in ./venv/lib/python3.10/site-packages (from ipython>=6.1.0->ipywidgets) (0.1.7)\n",
      "Requirement already satisfied: pygments>=2.4.0 in ./venv/lib/python3.10/site-packages (from ipython>=6.1.0->ipywidgets) (2.18.0)\n",
      "Requirement already satisfied: pexpect>4.3 in ./venv/lib/python3.10/site-packages (from ipython>=6.1.0->ipywidgets) (4.9.0)\n",
      "Requirement already satisfied: stack-data in ./venv/lib/python3.10/site-packages (from ipython>=6.1.0->ipywidgets) (0.6.3)\n",
      "Requirement already satisfied: jedi>=0.16 in ./venv/lib/python3.10/site-packages (from ipython>=6.1.0->ipywidgets) (0.19.1)\n",
      "Requirement already satisfied: jsonpatch<2.0,>=1.33 in ./venv/lib/python3.10/site-packages (from langchain-core<0.3.0,>=0.2.32->langchain) (1.33)\n",
      "Requirement already satisfied: orjson<4.0.0,>=3.9.14 in ./venv/lib/python3.10/site-packages (from langsmith<0.2.0,>=0.1.17->langchain) (3.10.7)\n",
      "Requirement already satisfied: sympy in ./venv/lib/python3.10/site-packages (from onnxruntime>=1.7.0->rapidocr-onnxruntime) (1.13.2)\n",
      "Requirement already satisfied: flatbuffers in ./venv/lib/python3.10/site-packages (from onnxruntime>=1.7.0->rapidocr-onnxruntime) (24.3.25)\n",
      "Requirement already satisfied: coloredlogs in ./venv/lib/python3.10/site-packages (from onnxruntime>=1.7.0->rapidocr-onnxruntime) (15.0.1)\n",
      "Requirement already satisfied: pydantic-core==2.20.1 in ./venv/lib/python3.10/site-packages (from pydantic<3.0.0,>=2.5.0->weaviate-client) (2.20.1)\n",
      "Requirement already satisfied: annotated-types>=0.4.0 in ./venv/lib/python3.10/site-packages (from pydantic<3.0.0,>=2.5.0->weaviate-client) (0.7.0)\n",
      "Requirement already satisfied: urllib3<3,>=1.21.1 in ./venv/lib/python3.10/site-packages (from requests<3.0.0,>=2.30.0->weaviate-client) (2.2.2)\n",
      "Requirement already satisfied: charset-normalizer<4,>=2 in ./venv/lib/python3.10/site-packages (from requests<3.0.0,>=2.30.0->weaviate-client) (3.3.2)\n",
      "Requirement already satisfied: greenlet!=0.4.17 in ./venv/lib/python3.10/site-packages (from SQLAlchemy<3,>=1.4->langchain) (3.0.3)\n",
      "Requirement already satisfied: nvidia-cuda-cupti-cu12==12.1.105 in ./venv/lib/python3.10/site-packages (from torch>=1.11.0->sentence-transformers) (12.1.105)\n",
      "Requirement already satisfied: nvidia-cudnn-cu12==9.1.0.70 in ./venv/lib/python3.10/site-packages (from torch>=1.11.0->sentence-transformers) (9.1.0.70)\n",
      "Requirement already satisfied: nvidia-cufft-cu12==11.0.2.54 in ./venv/lib/python3.10/site-packages (from torch>=1.11.0->sentence-transformers) (11.0.2.54)\n",
      "Requirement already satisfied: nvidia-cusolver-cu12==11.4.5.107 in ./venv/lib/python3.10/site-packages (from torch>=1.11.0->sentence-transformers) (11.4.5.107)\n",
      "Requirement already satisfied: nvidia-nvtx-cu12==12.1.105 in ./venv/lib/python3.10/site-packages (from torch>=1.11.0->sentence-transformers) (12.1.105)\n",
      "Requirement already satisfied: triton==3.0.0 in ./venv/lib/python3.10/site-packages (from torch>=1.11.0->sentence-transformers) (3.0.0)\n",
      "Requirement already satisfied: jinja2 in ./venv/lib/python3.10/site-packages (from torch>=1.11.0->sentence-transformers) (3.1.4)\n",
      "Requirement already satisfied: nvidia-cuda-nvrtc-cu12==12.1.105 in ./venv/lib/python3.10/site-packages (from torch>=1.11.0->sentence-transformers) (12.1.105)\n",
      "Requirement already satisfied: nvidia-cusparse-cu12==12.1.0.106 in ./venv/lib/python3.10/site-packages (from torch>=1.11.0->sentence-transformers) (12.1.0.106)\n",
      "Requirement already satisfied: nvidia-cublas-cu12==12.1.3.1 in ./venv/lib/python3.10/site-packages (from torch>=1.11.0->sentence-transformers) (12.1.3.1)\n",
      "Requirement already satisfied: nvidia-curand-cu12==10.3.2.106 in ./venv/lib/python3.10/site-packages (from torch>=1.11.0->sentence-transformers) (10.3.2.106)\n",
      "Requirement already satisfied: networkx in ./venv/lib/python3.10/site-packages (from torch>=1.11.0->sentence-transformers) (3.3)\n",
      "Requirement already satisfied: nvidia-nccl-cu12==2.20.5 in ./venv/lib/python3.10/site-packages (from torch>=1.11.0->sentence-transformers) (2.20.5)\n",
      "Requirement already satisfied: nvidia-cuda-runtime-cu12==12.1.105 in ./venv/lib/python3.10/site-packages (from torch>=1.11.0->sentence-transformers) (12.1.105)\n",
      "Requirement already satisfied: nvidia-nvjitlink-cu12 in ./venv/lib/python3.10/site-packages (from nvidia-cusolver-cu12==11.4.5.107->torch>=1.11.0->sentence-transformers) (12.6.20)\n",
      "Requirement already satisfied: safetensors>=0.4.1 in ./venv/lib/python3.10/site-packages (from transformers>=4.39.0->langchain-huggingface) (0.4.4)\n",
      "Requirement already satisfied: threadpoolctl>=3.1.0 in ./venv/lib/python3.10/site-packages (from scikit-learn->sentence-transformers) (3.5.0)\n",
      "Requirement already satisfied: joblib>=1.2.0 in ./venv/lib/python3.10/site-packages (from scikit-learn->sentence-transformers) (1.4.2)\n",
      "Requirement already satisfied: parso<0.9.0,>=0.8.3 in ./venv/lib/python3.10/site-packages (from jedi>=0.16->ipython>=6.1.0->ipywidgets) (0.8.4)\n",
      "Requirement already satisfied: jsonpointer>=1.9 in ./venv/lib/python3.10/site-packages (from jsonpatch<2.0,>=1.33->langchain-core<0.3.0,>=0.2.32->langchain) (3.0.0)\n",
      "Requirement already satisfied: ptyprocess>=0.5 in ./venv/lib/python3.10/site-packages (from pexpect>4.3->ipython>=6.1.0->ipywidgets) (0.7.0)\n",
      "Requirement already satisfied: wcwidth in ./venv/lib/python3.10/site-packages (from prompt-toolkit<3.1.0,>=3.0.41->ipython>=6.1.0->ipywidgets) (0.2.13)\n",
      "Requirement already satisfied: mypy-extensions>=0.3.0 in ./venv/lib/python3.10/site-packages (from typing-inspect<1,>=0.4.0->dataclasses-json<0.7,>=0.5.7->langchain-community) (1.0.0)\n",
      "Requirement already satisfied: humanfriendly>=9.1 in ./venv/lib/python3.10/site-packages (from coloredlogs->onnxruntime>=1.7.0->rapidocr-onnxruntime) (10.0)\n",
      "Requirement already satisfied: cffi>=1.12 in ./venv/lib/python3.10/site-packages (from cryptography->authlib<2.0.0,>=1.2.1->weaviate-client) (1.17.0)\n",
      "Requirement already satisfied: MarkupSafe>=2.0 in ./venv/lib/python3.10/site-packages (from jinja2->torch>=1.11.0->sentence-transformers) (2.1.5)\n",
      "Requirement already satisfied: executing>=1.2.0 in ./venv/lib/python3.10/site-packages (from stack-data->ipython>=6.1.0->ipywidgets) (2.0.1)\n",
      "Requirement already satisfied: asttokens>=2.1.0 in ./venv/lib/python3.10/site-packages (from stack-data->ipython>=6.1.0->ipywidgets) (2.4.1)\n",
      "Requirement already satisfied: pure-eval in ./venv/lib/python3.10/site-packages (from stack-data->ipython>=6.1.0->ipywidgets) (0.2.3)\n",
      "Requirement already satisfied: mpmath<1.4,>=1.1.0 in ./venv/lib/python3.10/site-packages (from sympy->onnxruntime>=1.7.0->rapidocr-onnxruntime) (1.3.0)\n",
      "Requirement already satisfied: pycparser in ./venv/lib/python3.10/site-packages (from cffi>=1.12->cryptography->authlib<2.0.0,>=1.2.1->weaviate-client) (2.22)\n"
     ]
    }
   ],
   "source": [
    "!pip install weaviate-client langchain langchain-text-splitters langchain_weaviate langchain-huggingface langchain-community tiktoken pypdf rapidocr-onnxruntime sentence-transformers python-dotenv ipywidgets"
   ]
  },
  {
   "cell_type": "code",
   "execution_count": 2,
   "id": "fd8217fe-dfb3-4ef0-9da0-2b13d184d07a",
   "metadata": {},
   "outputs": [],
   "source": [
    "!jupyter labextension enable widgetsnbextension\n",
    "from ipywidgets import FloatProgress"
   ]
  },
  {
   "cell_type": "code",
   "execution_count": 3,
   "id": "7d3d9b1f-b72f-41a1-a825-0d7ddaffd43e",
   "metadata": {},
   "outputs": [],
   "source": [
    "%load_ext dotenv\n",
    "%dotenv"
   ]
  },
  {
   "cell_type": "code",
   "execution_count": 4,
   "id": "0e5a8b21-0d5a-401b-8867-e8512f99054d",
   "metadata": {},
   "outputs": [],
   "source": [
    "import os\n",
    "import langchain_community\n",
    "import langchain_huggingface\n",
    "import langchain_text_splitters\n",
    "import weaviate"
   ]
  },
  {
   "cell_type": "code",
   "execution_count": 5,
   "id": "54bd548b-965a-488a-aadc-98d10cf71ac2",
   "metadata": {},
   "outputs": [],
   "source": [
    "client = weaviate.connect_to_weaviate_cloud(cluster_url=os.environ[\"WEAVIATE_API_URL\"], auth_credentials=weaviate.auth.AuthApiKey(os.environ[\"WEAVIATE_API_KEY\"]))"
   ]
  },
  {
   "cell_type": "code",
   "execution_count": 6,
   "id": "3e3853f8-df82-4c31-89ee-efc092eab530",
   "metadata": {},
   "outputs": [
    {
     "name": "stderr",
     "output_type": "stream",
     "text": [
      "/root/projects/langchain_stuff/venv/lib/python3.10/site-packages/sentence_transformers/cross_encoder/CrossEncoder.py:11: TqdmExperimentalWarning: Using `tqdm.autonotebook.tqdm` in notebook mode. Use `tqdm.tqdm` instead to force console mode (e.g. in jupyter console)\n",
      "  from tqdm.autonotebook import tqdm, trange\n",
      "/root/projects/langchain_stuff/venv/lib/python3.10/site-packages/transformers/tokenization_utils_base.py:1601: FutureWarning: `clean_up_tokenization_spaces` was not set. It will be set to `True` by default. This behavior will be depracted in transformers v4.45, and will be then set to `False` by default. For more details check this issue: https://github.com/huggingface/transformers/issues/31884\n",
      "  warnings.warn(\n"
     ]
    }
   ],
   "source": [
    "embeddings = langchain_huggingface.HuggingFaceEmbeddings(model_name=\"sentence-transformers/all-mpnet-base-v2\", model_kwargs={\"device\": \"cuda\"})"
   ]
  },
  {
   "cell_type": "code",
   "execution_count": 7,
   "id": "994cd3cc-1cd2-438d-904b-590a00ab50b3",
   "metadata": {},
   "outputs": [],
   "source": [
    "from langchain_community.document_loaders import PyPDFLoader\n",
    "loader = langchain_community.document_loaders.PyPDFLoader(\"assets/genshin_impact.pdf\", extract_images=True)\n",
    "document = loader.load()"
   ]
  },
  {
   "cell_type": "code",
   "execution_count": 8,
   "id": "cbe5a9eb-0c66-44ee-819f-b801fe390a16",
   "metadata": {},
   "outputs": [],
   "source": [
    "splitter = langchain_text_splitters.RecursiveCharacterTextSplitter(chunk_size=1000, chunk_overlap=20)"
   ]
  },
  {
   "cell_type": "code",
   "execution_count": 9,
   "id": "f205f160-800a-469b-be67-a6eecb909e97",
   "metadata": {},
   "outputs": [],
   "source": [
    "chunks = splitter.split_documents(document)"
   ]
  },
  {
   "cell_type": "code",
   "execution_count": 10,
   "id": "7a08c94a-c344-4697-b6bd-3f753d265e8c",
   "metadata": {},
   "outputs": [
    {
     "data": {
      "text/plain": [
       "[Document(metadata={'source': 'assets/genshin_impact.pdf', 'page': 0}, page_content='Research on the Reasons for the Success of Genshin Impact   \\nRan Ren1,a,* \\n1Vanke Meisha Academy, Shenzhen, Guangdong, 518000, China \\na. renran@stu.vma.edu.cn \\n*corresponding author  \\nAbstract:  Genshin Impact has taken the gaming world by storm. Developed and published by \\nmiHoYo, this game has captured the attention of gamers worldwide with its stunning visuals, \\ninteresting storyline, and engaging gameplay. Genshin Impact is an open- world game that \\nallows players to explore a vast world and interact with a variety of characters. The game also'),\n",
       " Document(metadata={'source': 'assets/genshin_impact.pdf', 'page': 0}, page_content=\"has very diverse mechanics, including combat, adventure, puzzle solving, character development, and more. Players need to constantly upgrade their character level, combat ability, and equipment level in order to better explore and complete quests in the game. This paper will explore the world of Genshin Impact, using its scenario design, character design, and analysis of cultural output to examine why Genshin Impact is so popular. Its diverse mechanics, beautiful graphics, rich character settings and storyline, unique Chinese elements, \\nexquisite graphics and sound effects, and Genshin Impact's positive cultural output have made the game much loved and sought after by players . \\nKeywords:  game, Genshin Impact , game culture, game design   \\n1. Introduction \\nGenshin Impact is an open- world role -playing game developed by miHoYo, a Chinese game\"),\n",
       " Document(metadata={'source': 'assets/genshin_impact.pdf', 'page': 0}, page_content=\"development company. The game was released on September 28, 2020, and has been a worldwide hit with gamers. Genshin Impact and achieved the Golden Joystick Award, also known as the National Game Awards, a video game awards ceremony. For 40 years, it has been voted by millions of gamers as the best video game of the year [1]. According to Twitter, it was the most discussed game on Twitter in 2021, with more than half of the players coming from outside of China, and Dragon Quest FM USA host Austin King said he didn't think the game was explicitly pro- China and he has been \\nplaying the game since the day it was released and writes abou t the game's latest updates and storyline \\nfor Screen Rant. Most importantly, he points that Genshin Impact demonstrates the potential of the Chinese video game industry. It is highly acclaimed for its beautiful graphics, rich storyline and diverse characte r set. Chinese Genshin Impact is one of the most -profitable video games on Earth [2].\"),\n",
       " Document(metadata={'source': 'assets/genshin_impact.pdf', 'page': 0}, page_content=\"This paper will explore the world of Genshin Impact, using its scenario design, character design and its analysis of cultural export to examine why Genshin Impact is so popular. The rich character setting and storyline, unique Chinese elements, exquisite graphics and sound effects, and Genshin Impact's aggressive cultural exportation make this game a favorite and sought -after game by players. The point \\nof this study is to get a deeper understanding of this game and to understand what mechanics are behind the game's success, to analyze the parts of the game that are well designed, and to understand the public's preferences for the game [3] . Proceedings of the International Conference on Social Psychology and Humanity Studies\\nDOI: 10.54254/2753-7064/5/20230281\\n© 2023 The Authors. This is an open access article distributed under the terms of the Creative Commons Attribution License 4.0\\n(https://creativecommons.org/licenses/by/4.0/).\\n285\"),\n",
       " Document(metadata={'source': 'assets/genshin_impact.pdf', 'page': 1}, page_content=\"2. Scene Design  \\n2.1. Scene Details  \\nThe scene design in Genshin Impact is very detailed. Each place in the game has its own unique visual \\nstyle and details. From exquisite architecture to lifelike natural landscapes, each scene is filled with \\ndetail and realism. These details are not just for aesthetic purposes, but also to allow players to better immerse themselves in the game world.  \\n2.2. Scene Interaction  \\nIn addition to the beautiful visual effects, the scenes in Genshin Impact are designed with a high level \\nof interactivity. Players can freely expl ore every corner of the game to better understand the game's \\nworldview. In addition, players can also interact with objects in the scenes, such as by climbing, \\ndestroying them, searching for treasure, etc. These interactions not only add to the fun of the game, but also allow players to have more freedom in the game.  \\n2.3. Scene Music\"),\n",
       " Document(metadata={'source': 'assets/genshin_impact.pdf', 'page': 1}, page_content=\"2.3. Scene Music  \\nIn addition to the visuals and interactivity, the scenario design in Genshin Impact also includes beautiful sound effects and music. Each scene has its own unique sound effects and music, which allow players to better feel the mood and atmosphere of the game. For example, in the game's battle scenes, the background music becomes more intense and tense, adding to the excitement of the game.  \\nThe scene design in Genshin Impact is a great feature of this game. Its details, interactivity, and \\nsound effects all greatly contribute to the experience of the game. Players can freely explore different scenes in the game and feel the unique charm of each scene. The research believe that these excellent scene designs are also one of the major reasons why Genshin Impact has become a popular game.  \\n3. Character Design\"),\n",
       " Document(metadata={'source': 'assets/genshin_impact.pdf', 'page': 1}, page_content='There are several characters to choose from in the game, each with their own unique skills and attributes. Players need to choose different characters according to different tasks and needs, making the game more diverse and interesting. In addition, the characters in the game also have rich personal \\nstories and backgrounds, which adds more emotional and plot elements to the game.  \\n3.1. Variety in Character Design  \\nThe character design in the game is full of Chinese cultural elements and is colorful and impressive. \\nThe character designs in Genshin Impact are very diverse, and each character has its own unique appearance and personality. For example, the main character, Traveler, has a simple, plain appearance while being courageous and adventurous. Razor, on the other hand, is a tall, gorgeously dressed character, full of majesty and a sense of power. In addition, there are many other types of charact ers'),\n",
       " Document(metadata={'source': 'assets/genshin_impact.pdf', 'page': 1}, page_content='in the game, such as the lovely cat lady, the piano girl, and the comedic Walnut. These different types of characters are designed to make the game more interesting and lively. \\n3.2. Integration of Chinese Cultural Elements  \\nThe character design in Genshin Im pact incorporates many Chinese cultural elements, such as \\ntraditional Chinese costumes, ancient -style looks, various legendary gods and beasts, and so on. For \\nexample, the appearance and costumes of the Lady of Qin are influenced by traditional Chinese Proceedings of the International Conference on Social Psychology and Humanity Studies\\nDOI: 10.54254/2753-7064/5/20230281\\n286'),\n",
       " Document(metadata={'source': 'assets/genshin_impact.pdf', 'page': 2}, page_content=\"culture, while the divine beasts Qilin and Xuanwu are both characters from Chinese legends. This \\nintegration of cultural elements in the game shows the charm and uniqueness of Chinese culture.  \\n3.3. Richness of the Character's Personality  \\nIn the Genshin Impact, ea ch character has its own unique personality and backstory. These characters \\nare very rich in character; some are brave and strong, some are gentle and kind, and some are cunning \\nand sinister. The differences in these characters personalities make the game more colorful and make it easier for players to empathize and connect emotionally.  \\nXiangling is the adventurous chef of a famous restaurant in Port Liege. Her public speaking skills \\nare poor, but she is always experimenting with new ingredients that others  are reluctant to use, which\"),\n",
       " Document(metadata={'source': 'assets/genshin_impact.pdf', 'page': 2}, page_content=\"gives her an edge in cooking. Sister Xiangling brought in another subculture of Chinese fashion: the countryside. The dark brown color of her shirts is reminiscent of a bucket hat, an undergarment dating back to the Ming Dynast y. The doujinshi was actually a square piece of cloth made of cotton or silk \\nthat covered only the chest and stomach and was tied around the neck and back with a thin cord. It \\nfunctioned like a modern brassiere and was patterned and embroidered according t o the wearer's \\ntheme, but the most common color was red. Wearing it as an outer garment was generally disapproved \\nof by elders and seen as a stereotype for rural dwellers, but it has occasionally been introduced into modern fashion [4].  \\nOverall, the character designs in Genshin Impact are very beautiful and diverse, full of Chinese\")]"
      ]
     },
     "execution_count": 10,
     "metadata": {},
     "output_type": "execute_result"
    }
   ],
   "source": [
    "chunks[:10]"
   ]
  },
  {
   "cell_type": "code",
   "execution_count": 11,
   "id": "97404505-32e0-419d-90ca-9d1988675974",
   "metadata": {},
   "outputs": [],
   "source": [
    "import langchain_weaviate.vectorstores"
   ]
  },
  {
   "cell_type": "code",
   "execution_count": 12,
   "id": "18e62c5d-6546-439f-b9ce-f43c1dcdf73d",
   "metadata": {},
   "outputs": [],
   "source": [
    "vectordb = langchain_weaviate.vectorstores.WeaviateVectorStore.from_documents(chunks, embeddings, client=client, by_text=False)"
   ]
  },
  {
   "cell_type": "code",
   "execution_count": 13,
   "id": "420e8912-6639-414f-9c94-b2457fbad2f3",
   "metadata": {},
   "outputs": [
    {
     "name": "stdout",
     "output_type": "stream",
     "text": [
      "[2] Chinese Genshin Impact is one of the most -profitable video games on Earth. It balances mass appeal with Beijing’s \n",
      "blessing. (2022, June). Retrieved March 8, 2023, from The World from PRX website: \n",
      "https://theworld.org/stories/2022- 06-21/chinese -genshin -impact -one-most -profitable -video -games -earth -it-\n",
      "balances -mass \n",
      "[3] Greting, M., Mao, X., & Eladhari, M. P. (2022). What Inspires Retellings -  A Study of the Game Genshin Impact. \n",
      "Interactive Storytelling, 249 –269. https://doi.org/10.1007/978- 3-031-22298- 6_16  \n",
      "[4] Jones, R. (2021, August 25). The best Genshin Impact Xiangling build. Rock Paper Shotgun; Rock  Paper Shotgun. \n",
      "https://www.rockpapershotgun.com/best -genshin- impact -xiangling -build  \n",
      "[5] Jiang, S. (2020, November 3). 11 Real Chinese Foods In Genshin Impact. Retrieved March 8, 2023, from Kotaku \n",
      "website: https://kotaku.com/11 -real-chinese- foods -in-genshin- impact-1845559337\n",
      "This paper will explore the world of Genshin Impact, using its scenario design, character design and its analysis of cultural export to examine why Genshin Impact is so popular. The rich character setting and storyline, unique Chinese elements, exquisite graphics and sound effects, and Genshin Impact's aggressive cultural exportation make this game a favorite and sought -after game by players. The point \n",
      "of this study is to get a deeper understanding of this game and to understand what mechanics are behind the game's success, to analyze the parts of the game that are well designed, and to understand the public's preferences for the game [3] . Proceedings of the International Conference on Social Psychology and Humanity Studies\n",
      "DOI: 10.54254/2753-7064/5/20230281\n",
      "© 2023 The Authors. This is an open access article distributed under the terms of the Creative Commons Attribution License 4.0\n",
      "(https://creativecommons.org/licenses/by/4.0/).\n",
      "285\n",
      "5.1. Display of Chinese Culture  \n",
      "Genshin Impact is a Chinese- inspired game that showcases the essence of Chinese culture to a global \n",
      "audience. The game's architecture, characters, soundtrack and storyline incorporate traditional \n",
      "Chinese cultural elements such as Taoism, Buddhism, martial arts and  myths and legends. These \n",
      "elements not only let players understand the history and traditions of Chinese culture, but also showcase the beautiful scenery and folk culture of China, enhancing the playability and appeal of the game [7].  \n",
      "5.2. Multicultural Integra tion \n",
      "Although Genshin Impact is a Chinese -style game, it does not ignore the influence of other cultures. \n",
      "The game is filled with cultural elements from different countries and regions, such as European Renaissance architecture, Norse mythology and legends , and Japanese anime culture. This\n"
     ]
    }
   ],
   "source": [
    "for page in vectordb.similarity_search(\"What is Genshin Impact?\", k=3):\n",
    "    print(page.page_content)"
   ]
  },
  {
   "cell_type": "code",
   "execution_count": 14,
   "id": "49eeb12a-91d7-4c1e-af3f-daa00892e78c",
   "metadata": {},
   "outputs": [
    {
     "name": "stdout",
     "output_type": "stream",
     "text": [
      "This paper will explore the world of Genshin Impact, using its scenario design, character design and its analysis of cultural export to examine why Genshin Impact is so popular. The rich character setting and storyline, unique Chinese elements, exquisite graphics and sound effects, and Genshin Impact's aggressive cultural exportation make this game a favorite and sought -after game by players. The point \n",
      "of this study is to get a deeper understanding of this game and to understand what mechanics are behind the game's success, to analyze the parts of the game that are well designed, and to understand the public's preferences for the game [3] . Proceedings of the International Conference on Social Psychology and Humanity Studies\n",
      "DOI: 10.54254/2753-7064/5/20230281\n",
      "© 2023 The Authors. This is an open access article distributed under the terms of the Creative Commons Attribution License 4.0\n",
      "(https://creativecommons.org/licenses/by/4.0/).\n",
      "285\n",
      "2.3. Scene Music  \n",
      "In addition to the visuals and interactivity, the scenario design in Genshin Impact also includes beautiful sound effects and music. Each scene has its own unique sound effects and music, which allow players to better feel the mood and atmosphere of the game. For example, in the game's battle scenes, the background music becomes more intense and tense, adding to the excitement of the game.  \n",
      "The scene design in Genshin Impact is a great feature of this game. Its details, interactivity, and \n",
      "sound effects all greatly contribute to the experience of the game. Players can freely explore different scenes in the game and feel the unique charm of each scene. The research believe that these excellent scene designs are also one of the major reasons why Genshin Impact has become a popular game.  \n",
      "3. Character Design\n",
      "has very diverse mechanics, including combat, adventure, puzzle solving, character development, and more. Players need to constantly upgrade their character level, combat ability, and equipment level in order to better explore and complete quests in the game. This paper will explore the world of Genshin Impact, using its scenario design, character design, and analysis of cultural output to examine why Genshin Impact is so popular. Its diverse mechanics, beautiful graphics, rich character settings and storyline, unique Chinese elements, \n",
      "exquisite graphics and sound effects, and Genshin Impact's positive cultural output have made the game much loved and sought after by players . \n",
      "Keywords:  game, Genshin Impact , game culture, game design   \n",
      "1. Introduction \n",
      "Genshin Impact is an open- world role -playing game developed by miHoYo, a Chinese game\n"
     ]
    }
   ],
   "source": [
    "for page in vectordb.similarity_search(\"Why is Genshin Impact so successful?\", k=3):\n",
    "    print(page.page_content)"
   ]
  },
  {
   "cell_type": "code",
   "execution_count": 15,
   "id": "2ed78936-0472-459e-aeba-3ffe83f97c3e",
   "metadata": {},
   "outputs": [],
   "source": [
    "import langchain_core"
   ]
  },
  {
   "cell_type": "code",
   "execution_count": 16,
   "id": "1c0cec8f-3d97-4864-8a78-9468f509e2bf",
   "metadata": {},
   "outputs": [],
   "source": [
    "prompt = langchain_core.prompts.ChatPromptTemplate.from_template(\"\"\"You are an assistant for question-answering tasks.\n",
    "Use the following pieces of retrieved context to answer the question.\n",
    "If you don't know the answer, just say that you don't know.\n",
    "Use ten sentences maximum and keep the answer concise.\n",
    "Question: {question}\n",
    "Context: {context}\n",
    "Answer:\n",
    "\"\"\")"
   ]
  },
  {
   "cell_type": "code",
   "execution_count": 17,
   "id": "a4375c31-352c-4736-acad-4c0393e52472",
   "metadata": {},
   "outputs": [],
   "source": [
    "model = llm=langchain_huggingface.HuggingFaceEndpoint(repo_id=\"mistralai/Mistral-7B-Instruct-v0.1\", temperature=1, model_kwargs={\"huggingface_api_token\": os.environ[\"HUGGINGFACE_API_KEY\"], \"max_length\": 180})"
   ]
  },
  {
   "cell_type": "code",
   "execution_count": 18,
   "id": "43327818-68c7-4904-a477-fdda2779d9d7",
   "metadata": {},
   "outputs": [],
   "source": [
    "output_parser = langchain_core.output_parsers.StrOutputParser()"
   ]
  },
  {
   "cell_type": "code",
   "execution_count": 19,
   "id": "00f75052-babd-46eb-b9a8-2e7f9fa8402b",
   "metadata": {},
   "outputs": [],
   "source": [
    "retriever = vectordb.as_retriever()"
   ]
  },
  {
   "cell_type": "code",
   "execution_count": 20,
   "id": "bc3087f1-8733-4184-9cd6-4f75f195816d",
   "metadata": {},
   "outputs": [],
   "source": [
    "retrieval_chain = {\"context\": retriever,  \"question\": langchain_core.runnables.RunnablePassthrough()} | prompt | model | output_parser"
   ]
  },
  {
   "cell_type": "code",
   "execution_count": 21,
   "id": "22360d05-c116-478c-8992-35b68a56643a",
   "metadata": {},
   "outputs": [
    {
     "ename": "HfHubHTTPError",
     "evalue": "429 Client Error: Too Many Requests for url: https://api-inference.huggingface.co/models/mistralai/Mistral-7B-Instruct-v0.1 (Request ID: lPj2QP79pcceQnJL-kc5m)\n\nRate limit reached. Please log in or use a HF access token",
     "output_type": "error",
     "traceback": [
      "\u001b[0;31m---------------------------------------------------------------------------\u001b[0m",
      "\u001b[0;31mHTTPError\u001b[0m                                 Traceback (most recent call last)",
      "File \u001b[0;32m~/projects/langchain_stuff/venv/lib/python3.10/site-packages/huggingface_hub/utils/_errors.py:304\u001b[0m, in \u001b[0;36mhf_raise_for_status\u001b[0;34m(response, endpoint_name)\u001b[0m\n\u001b[1;32m    303\u001b[0m \u001b[38;5;28;01mtry\u001b[39;00m:\n\u001b[0;32m--> 304\u001b[0m     \u001b[43mresponse\u001b[49m\u001b[38;5;241;43m.\u001b[39;49m\u001b[43mraise_for_status\u001b[49m\u001b[43m(\u001b[49m\u001b[43m)\u001b[49m\n\u001b[1;32m    305\u001b[0m \u001b[38;5;28;01mexcept\u001b[39;00m HTTPError \u001b[38;5;28;01mas\u001b[39;00m e:\n",
      "File \u001b[0;32m~/projects/langchain_stuff/venv/lib/python3.10/site-packages/requests/models.py:1024\u001b[0m, in \u001b[0;36mResponse.raise_for_status\u001b[0;34m(self)\u001b[0m\n\u001b[1;32m   1023\u001b[0m \u001b[38;5;28;01mif\u001b[39;00m http_error_msg:\n\u001b[0;32m-> 1024\u001b[0m     \u001b[38;5;28;01mraise\u001b[39;00m HTTPError(http_error_msg, response\u001b[38;5;241m=\u001b[39m\u001b[38;5;28mself\u001b[39m)\n",
      "\u001b[0;31mHTTPError\u001b[0m: 429 Client Error: Too Many Requests for url: https://api-inference.huggingface.co/models/mistralai/Mistral-7B-Instruct-v0.1",
      "\nThe above exception was the direct cause of the following exception:\n",
      "\u001b[0;31mHfHubHTTPError\u001b[0m                            Traceback (most recent call last)",
      "Cell \u001b[0;32mIn[21], line 1\u001b[0m\n\u001b[0;32m----> 1\u001b[0m \u001b[38;5;28mprint\u001b[39m(\u001b[43mretrieval_chain\u001b[49m\u001b[38;5;241;43m.\u001b[39;49m\u001b[43minvoke\u001b[49m\u001b[43m(\u001b[49m\u001b[38;5;124;43m\"\u001b[39;49m\u001b[38;5;124;43mWhat is Genshin Impact?\u001b[39;49m\u001b[38;5;124;43m\"\u001b[39;49m\u001b[43m)\u001b[49m)\n",
      "File \u001b[0;32m~/projects/langchain_stuff/venv/lib/python3.10/site-packages/langchain_core/runnables/base.py:2878\u001b[0m, in \u001b[0;36mRunnableSequence.invoke\u001b[0;34m(self, input, config, **kwargs)\u001b[0m\n\u001b[1;32m   2876\u001b[0m             \u001b[38;5;28minput\u001b[39m \u001b[38;5;241m=\u001b[39m context\u001b[38;5;241m.\u001b[39mrun(step\u001b[38;5;241m.\u001b[39minvoke, \u001b[38;5;28minput\u001b[39m, config, \u001b[38;5;241m*\u001b[39m\u001b[38;5;241m*\u001b[39mkwargs)\n\u001b[1;32m   2877\u001b[0m         \u001b[38;5;28;01melse\u001b[39;00m:\n\u001b[0;32m-> 2878\u001b[0m             \u001b[38;5;28minput\u001b[39m \u001b[38;5;241m=\u001b[39m \u001b[43mcontext\u001b[49m\u001b[38;5;241;43m.\u001b[39;49m\u001b[43mrun\u001b[49m\u001b[43m(\u001b[49m\u001b[43mstep\u001b[49m\u001b[38;5;241;43m.\u001b[39;49m\u001b[43minvoke\u001b[49m\u001b[43m,\u001b[49m\u001b[43m \u001b[49m\u001b[38;5;28;43minput\u001b[39;49m\u001b[43m,\u001b[49m\u001b[43m \u001b[49m\u001b[43mconfig\u001b[49m\u001b[43m)\u001b[49m\n\u001b[1;32m   2879\u001b[0m \u001b[38;5;66;03m# finish the root run\u001b[39;00m\n\u001b[1;32m   2880\u001b[0m \u001b[38;5;28;01mexcept\u001b[39;00m \u001b[38;5;167;01mBaseException\u001b[39;00m \u001b[38;5;28;01mas\u001b[39;00m e:\n",
      "File \u001b[0;32m~/projects/langchain_stuff/venv/lib/python3.10/site-packages/langchain_core/language_models/llms.py:385\u001b[0m, in \u001b[0;36mBaseLLM.invoke\u001b[0;34m(self, input, config, stop, **kwargs)\u001b[0m\n\u001b[1;32m    375\u001b[0m \u001b[38;5;28;01mdef\u001b[39;00m \u001b[38;5;21minvoke\u001b[39m(\n\u001b[1;32m    376\u001b[0m     \u001b[38;5;28mself\u001b[39m,\n\u001b[1;32m    377\u001b[0m     \u001b[38;5;28minput\u001b[39m: LanguageModelInput,\n\u001b[0;32m   (...)\u001b[0m\n\u001b[1;32m    381\u001b[0m     \u001b[38;5;241m*\u001b[39m\u001b[38;5;241m*\u001b[39mkwargs: Any,\n\u001b[1;32m    382\u001b[0m ) \u001b[38;5;241m-\u001b[39m\u001b[38;5;241m>\u001b[39m \u001b[38;5;28mstr\u001b[39m:\n\u001b[1;32m    383\u001b[0m     config \u001b[38;5;241m=\u001b[39m ensure_config(config)\n\u001b[1;32m    384\u001b[0m     \u001b[38;5;28;01mreturn\u001b[39;00m (\n\u001b[0;32m--> 385\u001b[0m         \u001b[38;5;28;43mself\u001b[39;49m\u001b[38;5;241;43m.\u001b[39;49m\u001b[43mgenerate_prompt\u001b[49m\u001b[43m(\u001b[49m\n\u001b[1;32m    386\u001b[0m \u001b[43m            \u001b[49m\u001b[43m[\u001b[49m\u001b[38;5;28;43mself\u001b[39;49m\u001b[38;5;241;43m.\u001b[39;49m\u001b[43m_convert_input\u001b[49m\u001b[43m(\u001b[49m\u001b[38;5;28;43minput\u001b[39;49m\u001b[43m)\u001b[49m\u001b[43m]\u001b[49m\u001b[43m,\u001b[49m\n\u001b[1;32m    387\u001b[0m \u001b[43m            \u001b[49m\u001b[43mstop\u001b[49m\u001b[38;5;241;43m=\u001b[39;49m\u001b[43mstop\u001b[49m\u001b[43m,\u001b[49m\n\u001b[1;32m    388\u001b[0m \u001b[43m            \u001b[49m\u001b[43mcallbacks\u001b[49m\u001b[38;5;241;43m=\u001b[39;49m\u001b[43mconfig\u001b[49m\u001b[38;5;241;43m.\u001b[39;49m\u001b[43mget\u001b[49m\u001b[43m(\u001b[49m\u001b[38;5;124;43m\"\u001b[39;49m\u001b[38;5;124;43mcallbacks\u001b[39;49m\u001b[38;5;124;43m\"\u001b[39;49m\u001b[43m)\u001b[49m\u001b[43m,\u001b[49m\n\u001b[1;32m    389\u001b[0m \u001b[43m            \u001b[49m\u001b[43mtags\u001b[49m\u001b[38;5;241;43m=\u001b[39;49m\u001b[43mconfig\u001b[49m\u001b[38;5;241;43m.\u001b[39;49m\u001b[43mget\u001b[49m\u001b[43m(\u001b[49m\u001b[38;5;124;43m\"\u001b[39;49m\u001b[38;5;124;43mtags\u001b[39;49m\u001b[38;5;124;43m\"\u001b[39;49m\u001b[43m)\u001b[49m\u001b[43m,\u001b[49m\n\u001b[1;32m    390\u001b[0m \u001b[43m            \u001b[49m\u001b[43mmetadata\u001b[49m\u001b[38;5;241;43m=\u001b[39;49m\u001b[43mconfig\u001b[49m\u001b[38;5;241;43m.\u001b[39;49m\u001b[43mget\u001b[49m\u001b[43m(\u001b[49m\u001b[38;5;124;43m\"\u001b[39;49m\u001b[38;5;124;43mmetadata\u001b[39;49m\u001b[38;5;124;43m\"\u001b[39;49m\u001b[43m)\u001b[49m\u001b[43m,\u001b[49m\n\u001b[1;32m    391\u001b[0m \u001b[43m            \u001b[49m\u001b[43mrun_name\u001b[49m\u001b[38;5;241;43m=\u001b[39;49m\u001b[43mconfig\u001b[49m\u001b[38;5;241;43m.\u001b[39;49m\u001b[43mget\u001b[49m\u001b[43m(\u001b[49m\u001b[38;5;124;43m\"\u001b[39;49m\u001b[38;5;124;43mrun_name\u001b[39;49m\u001b[38;5;124;43m\"\u001b[39;49m\u001b[43m)\u001b[49m\u001b[43m,\u001b[49m\n\u001b[1;32m    392\u001b[0m \u001b[43m            \u001b[49m\u001b[43mrun_id\u001b[49m\u001b[38;5;241;43m=\u001b[39;49m\u001b[43mconfig\u001b[49m\u001b[38;5;241;43m.\u001b[39;49m\u001b[43mpop\u001b[49m\u001b[43m(\u001b[49m\u001b[38;5;124;43m\"\u001b[39;49m\u001b[38;5;124;43mrun_id\u001b[39;49m\u001b[38;5;124;43m\"\u001b[39;49m\u001b[43m,\u001b[49m\u001b[43m \u001b[49m\u001b[38;5;28;43;01mNone\u001b[39;49;00m\u001b[43m)\u001b[49m\u001b[43m,\u001b[49m\n\u001b[1;32m    393\u001b[0m \u001b[43m            \u001b[49m\u001b[38;5;241;43m*\u001b[39;49m\u001b[38;5;241;43m*\u001b[39;49m\u001b[43mkwargs\u001b[49m\u001b[43m,\u001b[49m\n\u001b[1;32m    394\u001b[0m \u001b[43m        \u001b[49m\u001b[43m)\u001b[49m\n\u001b[1;32m    395\u001b[0m         \u001b[38;5;241m.\u001b[39mgenerations[\u001b[38;5;241m0\u001b[39m][\u001b[38;5;241m0\u001b[39m]\n\u001b[1;32m    396\u001b[0m         \u001b[38;5;241m.\u001b[39mtext\n\u001b[1;32m    397\u001b[0m     )\n",
      "File \u001b[0;32m~/projects/langchain_stuff/venv/lib/python3.10/site-packages/langchain_core/language_models/llms.py:750\u001b[0m, in \u001b[0;36mBaseLLM.generate_prompt\u001b[0;34m(self, prompts, stop, callbacks, **kwargs)\u001b[0m\n\u001b[1;32m    742\u001b[0m \u001b[38;5;28;01mdef\u001b[39;00m \u001b[38;5;21mgenerate_prompt\u001b[39m(\n\u001b[1;32m    743\u001b[0m     \u001b[38;5;28mself\u001b[39m,\n\u001b[1;32m    744\u001b[0m     prompts: List[PromptValue],\n\u001b[0;32m   (...)\u001b[0m\n\u001b[1;32m    747\u001b[0m     \u001b[38;5;241m*\u001b[39m\u001b[38;5;241m*\u001b[39mkwargs: Any,\n\u001b[1;32m    748\u001b[0m ) \u001b[38;5;241m-\u001b[39m\u001b[38;5;241m>\u001b[39m LLMResult:\n\u001b[1;32m    749\u001b[0m     prompt_strings \u001b[38;5;241m=\u001b[39m [p\u001b[38;5;241m.\u001b[39mto_string() \u001b[38;5;28;01mfor\u001b[39;00m p \u001b[38;5;129;01min\u001b[39;00m prompts]\n\u001b[0;32m--> 750\u001b[0m     \u001b[38;5;28;01mreturn\u001b[39;00m \u001b[38;5;28;43mself\u001b[39;49m\u001b[38;5;241;43m.\u001b[39;49m\u001b[43mgenerate\u001b[49m\u001b[43m(\u001b[49m\u001b[43mprompt_strings\u001b[49m\u001b[43m,\u001b[49m\u001b[43m \u001b[49m\u001b[43mstop\u001b[49m\u001b[38;5;241;43m=\u001b[39;49m\u001b[43mstop\u001b[49m\u001b[43m,\u001b[49m\u001b[43m \u001b[49m\u001b[43mcallbacks\u001b[49m\u001b[38;5;241;43m=\u001b[39;49m\u001b[43mcallbacks\u001b[49m\u001b[43m,\u001b[49m\u001b[43m \u001b[49m\u001b[38;5;241;43m*\u001b[39;49m\u001b[38;5;241;43m*\u001b[39;49m\u001b[43mkwargs\u001b[49m\u001b[43m)\u001b[49m\n",
      "File \u001b[0;32m~/projects/langchain_stuff/venv/lib/python3.10/site-packages/langchain_core/language_models/llms.py:944\u001b[0m, in \u001b[0;36mBaseLLM.generate\u001b[0;34m(self, prompts, stop, callbacks, tags, metadata, run_name, run_id, **kwargs)\u001b[0m\n\u001b[1;32m    929\u001b[0m \u001b[38;5;28;01mif\u001b[39;00m (\u001b[38;5;28mself\u001b[39m\u001b[38;5;241m.\u001b[39mcache \u001b[38;5;129;01mis\u001b[39;00m \u001b[38;5;28;01mNone\u001b[39;00m \u001b[38;5;129;01mand\u001b[39;00m get_llm_cache() \u001b[38;5;129;01mis\u001b[39;00m \u001b[38;5;28;01mNone\u001b[39;00m) \u001b[38;5;129;01mor\u001b[39;00m \u001b[38;5;28mself\u001b[39m\u001b[38;5;241m.\u001b[39mcache \u001b[38;5;129;01mis\u001b[39;00m \u001b[38;5;28;01mFalse\u001b[39;00m:\n\u001b[1;32m    930\u001b[0m     run_managers \u001b[38;5;241m=\u001b[39m [\n\u001b[1;32m    931\u001b[0m         callback_manager\u001b[38;5;241m.\u001b[39mon_llm_start(\n\u001b[1;32m    932\u001b[0m             dumpd(\u001b[38;5;28mself\u001b[39m),\n\u001b[0;32m   (...)\u001b[0m\n\u001b[1;32m    942\u001b[0m         )\n\u001b[1;32m    943\u001b[0m     ]\n\u001b[0;32m--> 944\u001b[0m     output \u001b[38;5;241m=\u001b[39m \u001b[38;5;28;43mself\u001b[39;49m\u001b[38;5;241;43m.\u001b[39;49m\u001b[43m_generate_helper\u001b[49m\u001b[43m(\u001b[49m\n\u001b[1;32m    945\u001b[0m \u001b[43m        \u001b[49m\u001b[43mprompts\u001b[49m\u001b[43m,\u001b[49m\u001b[43m \u001b[49m\u001b[43mstop\u001b[49m\u001b[43m,\u001b[49m\u001b[43m \u001b[49m\u001b[43mrun_managers\u001b[49m\u001b[43m,\u001b[49m\u001b[43m \u001b[49m\u001b[38;5;28;43mbool\u001b[39;49m\u001b[43m(\u001b[49m\u001b[43mnew_arg_supported\u001b[49m\u001b[43m)\u001b[49m\u001b[43m,\u001b[49m\u001b[43m \u001b[49m\u001b[38;5;241;43m*\u001b[39;49m\u001b[38;5;241;43m*\u001b[39;49m\u001b[43mkwargs\u001b[49m\n\u001b[1;32m    946\u001b[0m \u001b[43m    \u001b[49m\u001b[43m)\u001b[49m\n\u001b[1;32m    947\u001b[0m     \u001b[38;5;28;01mreturn\u001b[39;00m output\n\u001b[1;32m    948\u001b[0m \u001b[38;5;28;01mif\u001b[39;00m \u001b[38;5;28mlen\u001b[39m(missing_prompts) \u001b[38;5;241m>\u001b[39m \u001b[38;5;241m0\u001b[39m:\n",
      "File \u001b[0;32m~/projects/langchain_stuff/venv/lib/python3.10/site-packages/langchain_core/language_models/llms.py:787\u001b[0m, in \u001b[0;36mBaseLLM._generate_helper\u001b[0;34m(self, prompts, stop, run_managers, new_arg_supported, **kwargs)\u001b[0m\n\u001b[1;32m    785\u001b[0m     \u001b[38;5;28;01mfor\u001b[39;00m run_manager \u001b[38;5;129;01min\u001b[39;00m run_managers:\n\u001b[1;32m    786\u001b[0m         run_manager\u001b[38;5;241m.\u001b[39mon_llm_error(e, response\u001b[38;5;241m=\u001b[39mLLMResult(generations\u001b[38;5;241m=\u001b[39m[]))\n\u001b[0;32m--> 787\u001b[0m     \u001b[38;5;28;01mraise\u001b[39;00m e\n\u001b[1;32m    788\u001b[0m flattened_outputs \u001b[38;5;241m=\u001b[39m output\u001b[38;5;241m.\u001b[39mflatten()\n\u001b[1;32m    789\u001b[0m \u001b[38;5;28;01mfor\u001b[39;00m manager, flattened_output \u001b[38;5;129;01min\u001b[39;00m \u001b[38;5;28mzip\u001b[39m(run_managers, flattened_outputs):\n",
      "File \u001b[0;32m~/projects/langchain_stuff/venv/lib/python3.10/site-packages/langchain_core/language_models/llms.py:774\u001b[0m, in \u001b[0;36mBaseLLM._generate_helper\u001b[0;34m(self, prompts, stop, run_managers, new_arg_supported, **kwargs)\u001b[0m\n\u001b[1;32m    764\u001b[0m \u001b[38;5;28;01mdef\u001b[39;00m \u001b[38;5;21m_generate_helper\u001b[39m(\n\u001b[1;32m    765\u001b[0m     \u001b[38;5;28mself\u001b[39m,\n\u001b[1;32m    766\u001b[0m     prompts: List[\u001b[38;5;28mstr\u001b[39m],\n\u001b[0;32m   (...)\u001b[0m\n\u001b[1;32m    770\u001b[0m     \u001b[38;5;241m*\u001b[39m\u001b[38;5;241m*\u001b[39mkwargs: Any,\n\u001b[1;32m    771\u001b[0m ) \u001b[38;5;241m-\u001b[39m\u001b[38;5;241m>\u001b[39m LLMResult:\n\u001b[1;32m    772\u001b[0m     \u001b[38;5;28;01mtry\u001b[39;00m:\n\u001b[1;32m    773\u001b[0m         output \u001b[38;5;241m=\u001b[39m (\n\u001b[0;32m--> 774\u001b[0m             \u001b[38;5;28;43mself\u001b[39;49m\u001b[38;5;241;43m.\u001b[39;49m\u001b[43m_generate\u001b[49m\u001b[43m(\u001b[49m\n\u001b[1;32m    775\u001b[0m \u001b[43m                \u001b[49m\u001b[43mprompts\u001b[49m\u001b[43m,\u001b[49m\n\u001b[1;32m    776\u001b[0m \u001b[43m                \u001b[49m\u001b[43mstop\u001b[49m\u001b[38;5;241;43m=\u001b[39;49m\u001b[43mstop\u001b[49m\u001b[43m,\u001b[49m\n\u001b[1;32m    777\u001b[0m \u001b[43m                \u001b[49m\u001b[38;5;66;43;03m# TODO: support multiple run managers\u001b[39;49;00m\n\u001b[1;32m    778\u001b[0m \u001b[43m                \u001b[49m\u001b[43mrun_manager\u001b[49m\u001b[38;5;241;43m=\u001b[39;49m\u001b[43mrun_managers\u001b[49m\u001b[43m[\u001b[49m\u001b[38;5;241;43m0\u001b[39;49m\u001b[43m]\u001b[49m\u001b[43m \u001b[49m\u001b[38;5;28;43;01mif\u001b[39;49;00m\u001b[43m \u001b[49m\u001b[43mrun_managers\u001b[49m\u001b[43m \u001b[49m\u001b[38;5;28;43;01melse\u001b[39;49;00m\u001b[43m \u001b[49m\u001b[38;5;28;43;01mNone\u001b[39;49;00m\u001b[43m,\u001b[49m\n\u001b[1;32m    779\u001b[0m \u001b[43m                \u001b[49m\u001b[38;5;241;43m*\u001b[39;49m\u001b[38;5;241;43m*\u001b[39;49m\u001b[43mkwargs\u001b[49m\u001b[43m,\u001b[49m\n\u001b[1;32m    780\u001b[0m \u001b[43m            \u001b[49m\u001b[43m)\u001b[49m\n\u001b[1;32m    781\u001b[0m             \u001b[38;5;28;01mif\u001b[39;00m new_arg_supported\n\u001b[1;32m    782\u001b[0m             \u001b[38;5;28;01melse\u001b[39;00m \u001b[38;5;28mself\u001b[39m\u001b[38;5;241m.\u001b[39m_generate(prompts, stop\u001b[38;5;241m=\u001b[39mstop)\n\u001b[1;32m    783\u001b[0m         )\n\u001b[1;32m    784\u001b[0m     \u001b[38;5;28;01mexcept\u001b[39;00m \u001b[38;5;167;01mBaseException\u001b[39;00m \u001b[38;5;28;01mas\u001b[39;00m e:\n\u001b[1;32m    785\u001b[0m         \u001b[38;5;28;01mfor\u001b[39;00m run_manager \u001b[38;5;129;01min\u001b[39;00m run_managers:\n",
      "File \u001b[0;32m~/projects/langchain_stuff/venv/lib/python3.10/site-packages/langchain_core/language_models/llms.py:1508\u001b[0m, in \u001b[0;36mLLM._generate\u001b[0;34m(self, prompts, stop, run_manager, **kwargs)\u001b[0m\n\u001b[1;32m   1505\u001b[0m new_arg_supported \u001b[38;5;241m=\u001b[39m inspect\u001b[38;5;241m.\u001b[39msignature(\u001b[38;5;28mself\u001b[39m\u001b[38;5;241m.\u001b[39m_call)\u001b[38;5;241m.\u001b[39mparameters\u001b[38;5;241m.\u001b[39mget(\u001b[38;5;124m\"\u001b[39m\u001b[38;5;124mrun_manager\u001b[39m\u001b[38;5;124m\"\u001b[39m)\n\u001b[1;32m   1506\u001b[0m \u001b[38;5;28;01mfor\u001b[39;00m prompt \u001b[38;5;129;01min\u001b[39;00m prompts:\n\u001b[1;32m   1507\u001b[0m     text \u001b[38;5;241m=\u001b[39m (\n\u001b[0;32m-> 1508\u001b[0m         \u001b[38;5;28;43mself\u001b[39;49m\u001b[38;5;241;43m.\u001b[39;49m\u001b[43m_call\u001b[49m\u001b[43m(\u001b[49m\u001b[43mprompt\u001b[49m\u001b[43m,\u001b[49m\u001b[43m \u001b[49m\u001b[43mstop\u001b[49m\u001b[38;5;241;43m=\u001b[39;49m\u001b[43mstop\u001b[49m\u001b[43m,\u001b[49m\u001b[43m \u001b[49m\u001b[43mrun_manager\u001b[49m\u001b[38;5;241;43m=\u001b[39;49m\u001b[43mrun_manager\u001b[49m\u001b[43m,\u001b[49m\u001b[43m \u001b[49m\u001b[38;5;241;43m*\u001b[39;49m\u001b[38;5;241;43m*\u001b[39;49m\u001b[43mkwargs\u001b[49m\u001b[43m)\u001b[49m\n\u001b[1;32m   1509\u001b[0m         \u001b[38;5;28;01mif\u001b[39;00m new_arg_supported\n\u001b[1;32m   1510\u001b[0m         \u001b[38;5;28;01melse\u001b[39;00m \u001b[38;5;28mself\u001b[39m\u001b[38;5;241m.\u001b[39m_call(prompt, stop\u001b[38;5;241m=\u001b[39mstop, \u001b[38;5;241m*\u001b[39m\u001b[38;5;241m*\u001b[39mkwargs)\n\u001b[1;32m   1511\u001b[0m     )\n\u001b[1;32m   1512\u001b[0m     generations\u001b[38;5;241m.\u001b[39mappend([Generation(text\u001b[38;5;241m=\u001b[39mtext)])\n\u001b[1;32m   1513\u001b[0m \u001b[38;5;28;01mreturn\u001b[39;00m LLMResult(generations\u001b[38;5;241m=\u001b[39mgenerations)\n",
      "File \u001b[0;32m~/projects/langchain_stuff/venv/lib/python3.10/site-packages/langchain_huggingface/llms/huggingface_endpoint.py:258\u001b[0m, in \u001b[0;36mHuggingFaceEndpoint._call\u001b[0;34m(self, prompt, stop, run_manager, **kwargs)\u001b[0m\n\u001b[1;32m    254\u001b[0m \u001b[38;5;28;01melse\u001b[39;00m:\n\u001b[1;32m    255\u001b[0m     invocation_params[\u001b[38;5;124m\"\u001b[39m\u001b[38;5;124mstop\u001b[39m\u001b[38;5;124m\"\u001b[39m] \u001b[38;5;241m=\u001b[39m invocation_params[\n\u001b[1;32m    256\u001b[0m         \u001b[38;5;124m\"\u001b[39m\u001b[38;5;124mstop_sequences\u001b[39m\u001b[38;5;124m\"\u001b[39m\n\u001b[1;32m    257\u001b[0m     ]  \u001b[38;5;66;03m# porting 'stop_sequences' into the 'stop' argument\u001b[39;00m\n\u001b[0;32m--> 258\u001b[0m     response \u001b[38;5;241m=\u001b[39m \u001b[38;5;28;43mself\u001b[39;49m\u001b[38;5;241;43m.\u001b[39;49m\u001b[43mclient\u001b[49m\u001b[38;5;241;43m.\u001b[39;49m\u001b[43mpost\u001b[49m\u001b[43m(\u001b[49m\n\u001b[1;32m    259\u001b[0m \u001b[43m        \u001b[49m\u001b[43mjson\u001b[49m\u001b[38;5;241;43m=\u001b[39;49m\u001b[43m{\u001b[49m\u001b[38;5;124;43m\"\u001b[39;49m\u001b[38;5;124;43minputs\u001b[39;49m\u001b[38;5;124;43m\"\u001b[39;49m\u001b[43m:\u001b[49m\u001b[43m \u001b[49m\u001b[43mprompt\u001b[49m\u001b[43m,\u001b[49m\u001b[43m \u001b[49m\u001b[38;5;124;43m\"\u001b[39;49m\u001b[38;5;124;43mparameters\u001b[39;49m\u001b[38;5;124;43m\"\u001b[39;49m\u001b[43m:\u001b[49m\u001b[43m \u001b[49m\u001b[43minvocation_params\u001b[49m\u001b[43m}\u001b[49m\u001b[43m,\u001b[49m\n\u001b[1;32m    260\u001b[0m \u001b[43m        \u001b[49m\u001b[43mstream\u001b[49m\u001b[38;5;241;43m=\u001b[39;49m\u001b[38;5;28;43;01mFalse\u001b[39;49;00m\u001b[43m,\u001b[49m\n\u001b[1;32m    261\u001b[0m \u001b[43m        \u001b[49m\u001b[43mtask\u001b[49m\u001b[38;5;241;43m=\u001b[39;49m\u001b[38;5;28;43mself\u001b[39;49m\u001b[38;5;241;43m.\u001b[39;49m\u001b[43mtask\u001b[49m\u001b[43m,\u001b[49m\n\u001b[1;32m    262\u001b[0m \u001b[43m    \u001b[49m\u001b[43m)\u001b[49m\n\u001b[1;32m    263\u001b[0m     response_text \u001b[38;5;241m=\u001b[39m json\u001b[38;5;241m.\u001b[39mloads(response\u001b[38;5;241m.\u001b[39mdecode())[\u001b[38;5;241m0\u001b[39m][\u001b[38;5;124m\"\u001b[39m\u001b[38;5;124mgenerated_text\u001b[39m\u001b[38;5;124m\"\u001b[39m]\n\u001b[1;32m    265\u001b[0m     \u001b[38;5;66;03m# Maybe the generation has stopped at one of the stop sequences:\u001b[39;00m\n\u001b[1;32m    266\u001b[0m     \u001b[38;5;66;03m# then we remove this stop sequence from the end of the generated text\u001b[39;00m\n",
      "File \u001b[0;32m~/projects/langchain_stuff/venv/lib/python3.10/site-packages/huggingface_hub/inference/_client.py:304\u001b[0m, in \u001b[0;36mInferenceClient.post\u001b[0;34m(self, json, data, model, task, stream)\u001b[0m\n\u001b[1;32m    301\u001b[0m         \u001b[38;5;28;01mraise\u001b[39;00m InferenceTimeoutError(\u001b[38;5;124mf\u001b[39m\u001b[38;5;124m\"\u001b[39m\u001b[38;5;124mInference call timed out: \u001b[39m\u001b[38;5;132;01m{\u001b[39;00murl\u001b[38;5;132;01m}\u001b[39;00m\u001b[38;5;124m\"\u001b[39m) \u001b[38;5;28;01mfrom\u001b[39;00m \u001b[38;5;21;01merror\u001b[39;00m  \u001b[38;5;66;03m# type: ignore\u001b[39;00m\n\u001b[1;32m    303\u001b[0m \u001b[38;5;28;01mtry\u001b[39;00m:\n\u001b[0;32m--> 304\u001b[0m     \u001b[43mhf_raise_for_status\u001b[49m\u001b[43m(\u001b[49m\u001b[43mresponse\u001b[49m\u001b[43m)\u001b[49m\n\u001b[1;32m    305\u001b[0m     \u001b[38;5;28;01mreturn\u001b[39;00m response\u001b[38;5;241m.\u001b[39miter_lines() \u001b[38;5;28;01mif\u001b[39;00m stream \u001b[38;5;28;01melse\u001b[39;00m response\u001b[38;5;241m.\u001b[39mcontent\n\u001b[1;32m    306\u001b[0m \u001b[38;5;28;01mexcept\u001b[39;00m HTTPError \u001b[38;5;28;01mas\u001b[39;00m error:\n",
      "File \u001b[0;32m~/projects/langchain_stuff/venv/lib/python3.10/site-packages/huggingface_hub/utils/_errors.py:371\u001b[0m, in \u001b[0;36mhf_raise_for_status\u001b[0;34m(response, endpoint_name)\u001b[0m\n\u001b[1;32m    367\u001b[0m     \u001b[38;5;28;01mraise\u001b[39;00m HfHubHTTPError(message, response\u001b[38;5;241m=\u001b[39mresponse) \u001b[38;5;28;01mfrom\u001b[39;00m \u001b[38;5;21;01me\u001b[39;00m\n\u001b[1;32m    369\u001b[0m \u001b[38;5;66;03m# Convert `HTTPError` into a `HfHubHTTPError` to display request information\u001b[39;00m\n\u001b[1;32m    370\u001b[0m \u001b[38;5;66;03m# as well (request id and/or server error message)\u001b[39;00m\n\u001b[0;32m--> 371\u001b[0m \u001b[38;5;28;01mraise\u001b[39;00m HfHubHTTPError(\u001b[38;5;28mstr\u001b[39m(e), response\u001b[38;5;241m=\u001b[39mresponse) \u001b[38;5;28;01mfrom\u001b[39;00m \u001b[38;5;21;01me\u001b[39;00m\n",
      "\u001b[0;31mHfHubHTTPError\u001b[0m: 429 Client Error: Too Many Requests for url: https://api-inference.huggingface.co/models/mistralai/Mistral-7B-Instruct-v0.1 (Request ID: lPj2QP79pcceQnJL-kc5m)\n\nRate limit reached. Please log in or use a HF access token"
     ]
    }
   ],
   "source": [
    "print(retrieval_chain.invoke(\"What is Genshin Impact?\"))"
   ]
  },
  {
   "cell_type": "code",
   "execution_count": null,
   "id": "a7b6d976-e447-4c76-b302-8cce2e077321",
   "metadata": {},
   "outputs": [],
   "source": [
    "print(retrieval_chain.invoke(\"Why is Genshin Impact so successful?\"))"
   ]
  },
  {
   "cell_type": "code",
   "execution_count": null,
   "id": "9a543049-2c6d-4419-93fd-f085dffbd8c4",
   "metadata": {},
   "outputs": [],
   "source": []
  }
 ],
 "metadata": {
  "kernelspec": {
   "display_name": "Python 3 (ipykernel)",
   "language": "python",
   "name": "python3"
  },
  "language_info": {
   "codemirror_mode": {
    "name": "ipython",
    "version": 3
   },
   "file_extension": ".py",
   "mimetype": "text/x-python",
   "name": "python",
   "nbconvert_exporter": "python",
   "pygments_lexer": "ipython3",
   "version": "3.10.12"
  }
 },
 "nbformat": 4,
 "nbformat_minor": 5
}
