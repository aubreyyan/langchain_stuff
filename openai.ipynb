{
 "cells": [
  {
   "cell_type": "markdown",
   "id": "5eba4c8d-f8fb-45db-ab3e-9704c08b50f3",
   "metadata": {},
   "source": [
    "# Genshin Impact Guide"
   ]
  },
  {
   "cell_type": "markdown",
   "id": "9acf542f-a1de-4b6b-8bda-2dfa3729529d",
   "metadata": {},
   "source": [
    "I copied some longform wiki lore from https://genshin-impact.fandom.com/wiki/Timeline\n",
    "\n",
    "It's not automated which is a shame because I couldn't find a simple way to get the raw content from the website. So I manually copied and cleaned up some of the text.\n",
    "\n",
    "Available at assets/genshin_impact.txt"
   ]
  },
  {
   "cell_type": "code",
   "execution_count": 24,
   "id": "8521c90a-8eeb-496d-b3c7-f5b7932d8f4a",
   "metadata": {},
   "outputs": [
    {
     "name": "stdout",
     "output_type": "stream",
     "text": [
      "Requirement already satisfied: langchain in ./venv/lib/python3.10/site-packages (0.2.14)\n",
      "Requirement already satisfied: langchain-text-splitters in ./venv/lib/python3.10/site-packages (0.2.2)\n",
      "Requirement already satisfied: langchain-openai in ./venv/lib/python3.10/site-packages (0.1.22)\n",
      "Requirement already satisfied: langchain-community in ./venv/lib/python3.10/site-packages (0.2.12)\n",
      "Requirement already satisfied: openai in ./venv/lib/python3.10/site-packages (1.42.0)\n",
      "Requirement already satisfied: tiktoken in ./venv/lib/python3.10/site-packages (0.7.0)\n",
      "Requirement already satisfied: rapidocr-onnxruntime in ./venv/lib/python3.10/site-packages (1.3.24)\n",
      "Requirement already satisfied: faiss-gpu in ./venv/lib/python3.10/site-packages (1.7.2)\n",
      "Requirement already satisfied: python-dotenv in ./venv/lib/python3.10/site-packages (1.0.1)\n",
      "Requirement already satisfied: pydantic<3,>=1 in ./venv/lib/python3.10/site-packages (from langchain) (2.8.2)\n",
      "Requirement already satisfied: async-timeout<5.0.0,>=4.0.0 in ./venv/lib/python3.10/site-packages (from langchain) (4.0.3)\n",
      "Requirement already satisfied: aiohttp<4.0.0,>=3.8.3 in ./venv/lib/python3.10/site-packages (from langchain) (3.10.5)\n",
      "Requirement already satisfied: PyYAML>=5.3 in ./venv/lib/python3.10/site-packages (from langchain) (6.0.2)\n",
      "Requirement already satisfied: numpy<2,>=1 in ./venv/lib/python3.10/site-packages (from langchain) (1.26.4)\n",
      "Requirement already satisfied: SQLAlchemy<3,>=1.4 in ./venv/lib/python3.10/site-packages (from langchain) (2.0.32)\n",
      "Requirement already satisfied: requests<3,>=2 in ./venv/lib/python3.10/site-packages (from langchain) (2.32.3)\n",
      "Requirement already satisfied: langchain-core<0.3.0,>=0.2.32 in ./venv/lib/python3.10/site-packages (from langchain) (0.2.34)\n",
      "Requirement already satisfied: langsmith<0.2.0,>=0.1.17 in ./venv/lib/python3.10/site-packages (from langchain) (0.1.104)\n",
      "Requirement already satisfied: tenacity!=8.4.0,<9.0.0,>=8.1.0 in ./venv/lib/python3.10/site-packages (from langchain) (8.5.0)\n",
      "Requirement already satisfied: dataclasses-json<0.7,>=0.5.7 in ./venv/lib/python3.10/site-packages (from langchain-community) (0.6.7)\n",
      "Requirement already satisfied: distro<2,>=1.7.0 in ./venv/lib/python3.10/site-packages (from openai) (1.9.0)\n",
      "Requirement already satisfied: tqdm>4 in ./venv/lib/python3.10/site-packages (from openai) (4.66.5)\n",
      "Requirement already satisfied: jiter<1,>=0.4.0 in ./venv/lib/python3.10/site-packages (from openai) (0.5.0)\n",
      "Requirement already satisfied: sniffio in ./venv/lib/python3.10/site-packages (from openai) (1.3.1)\n",
      "Requirement already satisfied: anyio<5,>=3.5.0 in ./venv/lib/python3.10/site-packages (from openai) (4.4.0)\n",
      "Requirement already satisfied: httpx<1,>=0.23.0 in ./venv/lib/python3.10/site-packages (from openai) (0.27.0)\n",
      "Requirement already satisfied: typing-extensions<5,>=4.11 in ./venv/lib/python3.10/site-packages (from openai) (4.12.2)\n",
      "Requirement already satisfied: regex>=2022.1.18 in ./venv/lib/python3.10/site-packages (from tiktoken) (2024.7.24)\n",
      "Requirement already satisfied: onnxruntime>=1.7.0 in ./venv/lib/python3.10/site-packages (from rapidocr-onnxruntime) (1.19.0)\n",
      "Requirement already satisfied: pyclipper>=1.2.0 in ./venv/lib/python3.10/site-packages (from rapidocr-onnxruntime) (1.3.0.post5)\n",
      "Requirement already satisfied: Pillow in ./venv/lib/python3.10/site-packages (from rapidocr-onnxruntime) (10.4.0)\n",
      "Requirement already satisfied: Shapely!=2.0.4,>=1.7.1 in ./venv/lib/python3.10/site-packages (from rapidocr-onnxruntime) (2.0.6)\n",
      "Requirement already satisfied: opencv-python>=4.5.1.48 in ./venv/lib/python3.10/site-packages (from rapidocr-onnxruntime) (4.10.0.84)\n",
      "Requirement already satisfied: six>=1.15.0 in ./venv/lib/python3.10/site-packages (from rapidocr-onnxruntime) (1.16.0)\n",
      "Requirement already satisfied: frozenlist>=1.1.1 in ./venv/lib/python3.10/site-packages (from aiohttp<4.0.0,>=3.8.3->langchain) (1.4.1)\n",
      "Requirement already satisfied: attrs>=17.3.0 in ./venv/lib/python3.10/site-packages (from aiohttp<4.0.0,>=3.8.3->langchain) (24.2.0)\n",
      "Requirement already satisfied: aiohappyeyeballs>=2.3.0 in ./venv/lib/python3.10/site-packages (from aiohttp<4.0.0,>=3.8.3->langchain) (2.4.0)\n",
      "Requirement already satisfied: multidict<7.0,>=4.5 in ./venv/lib/python3.10/site-packages (from aiohttp<4.0.0,>=3.8.3->langchain) (6.0.5)\n",
      "Requirement already satisfied: yarl<2.0,>=1.0 in ./venv/lib/python3.10/site-packages (from aiohttp<4.0.0,>=3.8.3->langchain) (1.9.4)\n",
      "Requirement already satisfied: aiosignal>=1.1.2 in ./venv/lib/python3.10/site-packages (from aiohttp<4.0.0,>=3.8.3->langchain) (1.3.1)\n",
      "Requirement already satisfied: idna>=2.8 in ./venv/lib/python3.10/site-packages (from anyio<5,>=3.5.0->openai) (3.8)\n",
      "Requirement already satisfied: exceptiongroup>=1.0.2 in ./venv/lib/python3.10/site-packages (from anyio<5,>=3.5.0->openai) (1.2.2)\n",
      "Requirement already satisfied: marshmallow<4.0.0,>=3.18.0 in ./venv/lib/python3.10/site-packages (from dataclasses-json<0.7,>=0.5.7->langchain-community) (3.22.0)\n",
      "Requirement already satisfied: typing-inspect<1,>=0.4.0 in ./venv/lib/python3.10/site-packages (from dataclasses-json<0.7,>=0.5.7->langchain-community) (0.9.0)\n",
      "Requirement already satisfied: certifi in ./venv/lib/python3.10/site-packages (from httpx<1,>=0.23.0->openai) (2024.7.4)\n",
      "Requirement already satisfied: httpcore==1.* in ./venv/lib/python3.10/site-packages (from httpx<1,>=0.23.0->openai) (1.0.5)\n",
      "Requirement already satisfied: h11<0.15,>=0.13 in ./venv/lib/python3.10/site-packages (from httpcore==1.*->httpx<1,>=0.23.0->openai) (0.14.0)\n",
      "Requirement already satisfied: packaging<25,>=23.2 in ./venv/lib/python3.10/site-packages (from langchain-core<0.3.0,>=0.2.32->langchain) (24.1)\n",
      "Requirement already satisfied: jsonpatch<2.0,>=1.33 in ./venv/lib/python3.10/site-packages (from langchain-core<0.3.0,>=0.2.32->langchain) (1.33)\n",
      "Requirement already satisfied: orjson<4.0.0,>=3.9.14 in ./venv/lib/python3.10/site-packages (from langsmith<0.2.0,>=0.1.17->langchain) (3.10.7)\n",
      "Requirement already satisfied: flatbuffers in ./venv/lib/python3.10/site-packages (from onnxruntime>=1.7.0->rapidocr-onnxruntime) (24.3.25)\n",
      "Requirement already satisfied: coloredlogs in ./venv/lib/python3.10/site-packages (from onnxruntime>=1.7.0->rapidocr-onnxruntime) (15.0.1)\n",
      "Requirement already satisfied: sympy in ./venv/lib/python3.10/site-packages (from onnxruntime>=1.7.0->rapidocr-onnxruntime) (1.13.2)\n",
      "Requirement already satisfied: protobuf in ./venv/lib/python3.10/site-packages (from onnxruntime>=1.7.0->rapidocr-onnxruntime) (5.27.3)\n",
      "Requirement already satisfied: annotated-types>=0.4.0 in ./venv/lib/python3.10/site-packages (from pydantic<3,>=1->langchain) (0.7.0)\n",
      "Requirement already satisfied: pydantic-core==2.20.1 in ./venv/lib/python3.10/site-packages (from pydantic<3,>=1->langchain) (2.20.1)\n",
      "Requirement already satisfied: urllib3<3,>=1.21.1 in ./venv/lib/python3.10/site-packages (from requests<3,>=2->langchain) (2.2.2)\n",
      "Requirement already satisfied: charset-normalizer<4,>=2 in ./venv/lib/python3.10/site-packages (from requests<3,>=2->langchain) (3.3.2)\n",
      "Requirement already satisfied: greenlet!=0.4.17 in ./venv/lib/python3.10/site-packages (from SQLAlchemy<3,>=1.4->langchain) (3.0.3)\n",
      "Requirement already satisfied: jsonpointer>=1.9 in ./venv/lib/python3.10/site-packages (from jsonpatch<2.0,>=1.33->langchain-core<0.3.0,>=0.2.32->langchain) (3.0.0)\n",
      "Requirement already satisfied: mypy-extensions>=0.3.0 in ./venv/lib/python3.10/site-packages (from typing-inspect<1,>=0.4.0->dataclasses-json<0.7,>=0.5.7->langchain-community) (1.0.0)\n",
      "Requirement already satisfied: humanfriendly>=9.1 in ./venv/lib/python3.10/site-packages (from coloredlogs->onnxruntime>=1.7.0->rapidocr-onnxruntime) (10.0)\n",
      "Requirement already satisfied: mpmath<1.4,>=1.1.0 in ./venv/lib/python3.10/site-packages (from sympy->onnxruntime>=1.7.0->rapidocr-onnxruntime) (1.3.0)\n"
     ]
    }
   ],
   "source": [
    "!pip install langchain langchain-text-splitters langchain-openai langchain-community openai tiktoken rapidocr-onnxruntime faiss-gpu python-dotenv"
   ]
  },
  {
   "cell_type": "code",
   "execution_count": 2,
   "id": "d2bfbed2-f02f-4059-95c8-8d209187df7e",
   "metadata": {},
   "outputs": [
    {
     "name": "stdout",
     "output_type": "stream",
     "text": [
      "3.10.12\n"
     ]
    }
   ],
   "source": [
    "from platform import python_version\n",
    "print(python_version())"
   ]
  },
  {
   "cell_type": "code",
   "execution_count": 3,
   "id": "c956c487-3e3e-44a7-8e55-e6ba5b35e0f8",
   "metadata": {},
   "outputs": [],
   "source": [
    "import langchain_text_splitters\n",
    "import langchain_community.document_loaders"
   ]
  },
  {
   "cell_type": "code",
   "execution_count": 4,
   "id": "01070a98-8fc5-4db5-aa45-603ad428de60",
   "metadata": {},
   "outputs": [],
   "source": [
    "text_loader = langchain_community.document_loaders.TextLoader(\"assets/genshin_impact.txt\")"
   ]
  },
  {
   "cell_type": "code",
   "execution_count": 5,
   "id": "d4067445-9b1d-44d2-a0f4-17f909dbd799",
   "metadata": {},
   "outputs": [],
   "source": [
    "document = text_loader.load()"
   ]
  },
  {
   "cell_type": "code",
   "execution_count": 6,
   "id": "375b2639-c14c-4278-a959-81bca4dba794",
   "metadata": {},
   "outputs": [],
   "source": [
    "splitter = langchain_text_splitters.RecursiveCharacterTextSplitter(chunk_size=500, chunk_overlap=50)"
   ]
  },
  {
   "cell_type": "code",
   "execution_count": 7,
   "id": "ed6e6d3b-dda6-40d3-91f7-0f90d432907b",
   "metadata": {},
   "outputs": [],
   "source": [
    "chunks = splitter.split_documents(document)"
   ]
  },
  {
   "cell_type": "code",
   "execution_count": 8,
   "id": "6c702590-4820-49b1-96ba-8929dd3a38bb",
   "metadata": {},
   "outputs": [
    {
     "data": {
      "text/plain": [
       "[Document(metadata={'source': 'assets/genshin_impact.txt'}, page_content=\"The Old World\\n\\nAll events take place an unknown time in the past, but allegedly predate Morax's birth over 6,000 years ago.\"),\n",
       " Document(metadata={'source': 'assets/genshin_impact.txt'}, page_content=\"The Seven Sovereigns\\nDragons and vishaps are the dominant species, led by the Seven Sovereigns and the Dragon King Nibelung.\\nAll elemental beings come from the Light Realm, also known as the Vishap Realm.\\nEach of the Seven Sovereigns holds one of the seven elemental Authorities, and they are the strongest dragon of their respective element. The world is divided among them, and each one's respective land is attuned to their elemental affinity.\"),\n",
       " Document(metadata={'source': 'assets/genshin_impact.txt'}, page_content='In Sumeru, Apep holds the Dendro elemental Authority. She rules the land while nurturing some of the most ancient and primordial beings, which are known simply as Dendro lifeforms.'),\n",
       " Document(metadata={'source': 'assets/genshin_impact.txt'}, page_content='The Hydro Dragon, in addition to holding the Hydro elemental Authority, also presides over the Primordial Sea and could be considered the original \"God of Life\" as all life on the planet can trace its origins back to the Primordial Sea. Because of this, it is sometimes referred to as \"birthing waters\" or \"amniotic fluid.\" Life within the Primordial Sea was a collective rather than made up of individuals.\\nEternal Throne of the Heavens'),\n",
       " Document(metadata={'source': 'assets/genshin_impact.txt'}, page_content='Eternal Throne of the Heavens\\nThe Heavenly Principles (also known as the Primordial One, or the \"eternal throne of the heavens\") descends on this world and takes a portion of the Seven Sovereigns\\' elemental Authorities for itself. It creates the Four Shades, four shining shades of itself, to help fight the Seven Sovereigns.'),\n",
       " Document(metadata={'source': 'assets/genshin_impact.txt'}, page_content='Phanes, a candidate for the identity of the Heavenly Principles, arose from an \"egg\" as an androgynous figure. For the world to be created, the eggshell had to be broken; however, it used the eggshell to split the \"universe\" from the \"microcosm of the world.\" It then came to the world as its true lord and claimed the heavens as its eternal throne.\\nIstaroth, the god of time and wind, is likely one of the four shades.'),\n",
       " Document(metadata={'source': 'assets/genshin_impact.txt'}, page_content=\"40 years after the Heavenly Principles appears — The Heavenly Principles and its shades emerge victorious over the Seven Sovereigns, and the world falls under the control of the heavens while the Sovereigns' subjects escape to the oceans. The Heavenly Principles begins creating heaven and earth for the sake of humanity and its creations soon after.\\nThis leads to the existence of the Human Realm created by the Heavenly Principles.\"),\n",
       " Document(metadata={'source': 'assets/genshin_impact.txt'}, page_content='Gnostic Chorus Story — At some point, a kingdom is established in the heavens with a king and two heirs. The first heir is tasked with finding the Genesis Pearl from the Kingdom of Darkness, but she is deceived, and her memory is changed to make her believe she was the queen of the Kingdom of Darkness. The second heir is sent out for the same task, and it is unknown if he succeeded or not.'),\n",
       " Document(metadata={'source': 'assets/genshin_impact.txt'}, page_content=\"This story is framed as an allegory for the Traveler's story, with the Traveler as the second heir and the Traveler's Sibling as the first heir. While it is not necessarily a retelling of historical events, it may suggest a relationship between the twins and Celestia.\\nThe First Era\"),\n",
       " Document(metadata={'source': 'assets/genshin_impact.txt'}, page_content='The term \"first era\" is derived from The History of the Decline and Fall of Remuria.')]"
      ]
     },
     "execution_count": 8,
     "metadata": {},
     "output_type": "execute_result"
    }
   ],
   "source": [
    "chunks[:10]"
   ]
  },
  {
   "cell_type": "code",
   "execution_count": 9,
   "id": "2675fd1d-ff3f-4647-8412-473727ef7571",
   "metadata": {},
   "outputs": [],
   "source": [
    "%load_ext dotenv\n",
    "%dotenv"
   ]
  },
  {
   "cell_type": "code",
   "execution_count": 10,
   "id": "856b2db4-1b58-49da-bee9-5c27fc608ecb",
   "metadata": {},
   "outputs": [],
   "source": [
    "import os\n",
    "import langchain.chains\n",
    "import langchain_openai\n",
    "import langchain_core\n",
    "import langchain_community.vectorstores"
   ]
  },
  {
   "cell_type": "code",
   "execution_count": 11,
   "id": "58214070-0a6f-48f3-851f-d96d703993b2",
   "metadata": {},
   "outputs": [],
   "source": [
    "embeddings = langchain_openai.OpenAIEmbeddings(api_key=os.environ[\"OPENAI_API_KEY\"])"
   ]
  },
  {
   "cell_type": "code",
   "execution_count": 12,
   "id": "c59d923c-948e-4060-b289-7c21c8f8b61d",
   "metadata": {},
   "outputs": [],
   "source": [
    "in_mem_vecs = langchain_community.vectorstores.FAISS.from_documents(chunks, embeddings)"
   ]
  },
  {
   "cell_type": "code",
   "execution_count": 13,
   "id": "27684be3-250a-480d-a09e-136a32ca4f51",
   "metadata": {},
   "outputs": [],
   "source": [
    "retriever = in_mem_vecs.as_retriever()"
   ]
  },
  {
   "cell_type": "code",
   "execution_count": 14,
   "id": "8892a29f-9afb-43d0-a5c6-78223997b984",
   "metadata": {},
   "outputs": [],
   "source": [
    "prompt = langchain_core.prompts.ChatPromptTemplate.from_template(\"\"\"You are an assistant for question-answering tasks.\n",
    "Use the following pieces of retrieved context to answer the question.\n",
    "If you don't know the answer, just say that you don't know.\n",
    "Use ten sentences maximum and keep the answer concise.\n",
    "Question: {question}\n",
    "Context: {context}\n",
    "Answer:\n",
    "\"\"\")"
   ]
  },
  {
   "cell_type": "code",
   "execution_count": 15,
   "id": "d2774097-6dc3-42f7-83d1-e87d3931f02d",
   "metadata": {},
   "outputs": [],
   "source": [
    "model = langchain_openai.ChatOpenAI(api_key=os.environ[\"OPENAI_API_KEY\"], model=\"gpt-3.5-turbo\")"
   ]
  },
  {
   "cell_type": "code",
   "execution_count": 16,
   "id": "1b6479d3-e432-435a-8bf1-118a0bd96270",
   "metadata": {},
   "outputs": [],
   "source": [
    "output_parser = langchain_core.output_parsers.StrOutputParser()"
   ]
  },
  {
   "cell_type": "code",
   "execution_count": 17,
   "id": "b302c83d-cb3d-4107-a3a3-77a6160b0553",
   "metadata": {},
   "outputs": [],
   "source": [
    "#from langchain.chains.combine_documents import create_stuff_documents_chain\n",
    "#documents_chain = langchain.chains.combine_documents.create_stuff_documents_chain(model, prompt)"
   ]
  },
  {
   "cell_type": "code",
   "execution_count": 18,
   "id": "da3a5f97-91ae-41b9-a986-9df04a78a795",
   "metadata": {},
   "outputs": [],
   "source": [
    "#retrieval_chain = langchain.chains.create_retrieval_chain(retriever, documents_chain)"
   ]
  },
  {
   "cell_type": "code",
   "execution_count": 19,
   "id": "3ddfde4d-549a-4868-8507-53fece66f3a8",
   "metadata": {},
   "outputs": [],
   "source": [
    "#retrieval_chain.invoke({\"input\": \"Tell me Mona's backstory.\"})"
   ]
  },
  {
   "cell_type": "code",
   "execution_count": 20,
   "id": "57f6355d-3d7a-4583-bb30-d08d4a382d60",
   "metadata": {},
   "outputs": [],
   "source": [
    "retrieval_chain = {\"context\": retriever,  \"question\": langchain_core.runnables.RunnablePassthrough()} | prompt | model | output_parser"
   ]
  },
  {
   "cell_type": "code",
   "execution_count": 21,
   "id": "b6fd6294-d321-4adc-8b48-dcc2adc850bb",
   "metadata": {},
   "outputs": [
    {
     "data": {
      "text/plain": [
       "\"Mona's backstory involves her being enslaved by the aristocracy in Mondstadt due to her great strength. She was made into a gladiator but the chains could not bind her. She was later found by Pierro of the Fatui Harbingers, who gave her a Cryo Delusion to put out her flames. This led to her transformation into Signora, the 8th of the Fatui Harbingers. Additionally, 1010 years ago, she fled to Mondstadt after encountering Ursa the Drake. Faruzan, who was trapped within desert ruins, escaped 100 years ago and was found with a Vision in a Sumeru forest. Cyno studied under the same master as Lisa at an unknown point in time. Faranak left for Fontaine for employment and Kaveh met Alhaitham, becoming friends.\""
      ]
     },
     "execution_count": 21,
     "metadata": {},
     "output_type": "execute_result"
    }
   ],
   "source": [
    "retrieval_chain.invoke(\"Tell me Mona's backstory.\")"
   ]
  },
  {
   "cell_type": "code",
   "execution_count": 22,
   "id": "7cb44615-2ee4-4dde-b698-03a9146a0974",
   "metadata": {},
   "outputs": [
    {
     "data": {
      "text/plain": [
       "\"Before the Traveler's appearance in Teyvat, the land was plagued by the Beast of Thunder enslaving people with lightning. The Thundersoother, seeking revenge for his family's sacrifice, defeated the Beast and received a crown but lived in solitude. There were unknown regions in Teyvat where conflicts and battles took place. Invaders from beyond the firmament brought forbidden knowledge and diseases to Teyvat, causing havoc. The Seelie fought against these invaders but were unable to stop them. Khaenri'ah was destroyed by the Gods, witnessed by the Traveler's sibling before waking the Traveler. The one-eyed king Irmin grew weak, and the Alberich Clan took over as regents post-cataclysm. Overall, Teyvat was a land filled with conflicts, forbidden knowledge, and destruction before the Traveler's appearance.\""
      ]
     },
     "execution_count": 22,
     "metadata": {},
     "output_type": "execute_result"
    }
   ],
   "source": [
    "retrieval_chain.invoke(\"What was Teyvat like before the traveller's appearance?\")"
   ]
  },
  {
   "cell_type": "code",
   "execution_count": null,
   "id": "4b465f0c-c5df-4ad7-bfc2-37786cd9d456",
   "metadata": {},
   "outputs": [],
   "source": []
  }
 ],
 "metadata": {
  "kernelspec": {
   "display_name": "Python 3 (ipykernel)",
   "language": "python",
   "name": "python3"
  },
  "language_info": {
   "codemirror_mode": {
    "name": "ipython",
    "version": 3
   },
   "file_extension": ".py",
   "mimetype": "text/x-python",
   "name": "python",
   "nbconvert_exporter": "python",
   "pygments_lexer": "ipython3",
   "version": "3.10.12"
  }
 },
 "nbformat": 4,
 "nbformat_minor": 5
}
